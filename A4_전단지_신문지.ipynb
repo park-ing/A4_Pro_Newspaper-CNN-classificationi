{
  "nbformat": 4,
  "nbformat_minor": 0,
  "metadata": {
    "colab": {
      "name": "A4_전단지_신문지.ipynb",
      "provenance": [],
      "authorship_tag": "ABX9TyOMI9eaBFmRe7DU4uhlOU1l",
      "include_colab_link": true
    },
    "kernelspec": {
      "name": "python3",
      "display_name": "Python 3"
    },
    "language_info": {
      "name": "python"
    }
  },
  "cells": [
    {
      "cell_type": "markdown",
      "metadata": {
        "id": "view-in-github",
        "colab_type": "text"
      },
      "source": [
        "<a href=\"https://colab.research.google.com/github/park-ing/A4_Pro_Newspaper-CNN-classificationi/blob/main/A4_%EC%A0%84%EB%8B%A8%EC%A7%80_%EC%8B%A0%EB%AC%B8%EC%A7%80.ipynb\" target=\"_parent\"><img src=\"https://colab.research.google.com/assets/colab-badge.svg\" alt=\"Open In Colab\"/></a>"
      ]
    },
    {
      "cell_type": "code",
      "metadata": {
        "colab": {
          "base_uri": "https://localhost:8080/"
        },
        "id": "qL91RvLZiu7X",
        "outputId": "b73bde05-0e31-4c9e-98b0-0930ccdb5f43"
      },
      "source": [
        "from google.colab import drive\n",
        "drive.mount('/content/drive')"
      ],
      "execution_count": null,
      "outputs": [
        {
          "output_type": "stream",
          "name": "stdout",
          "text": [
            "Mounted at /content/drive\n"
          ]
        }
      ]
    },
    {
      "cell_type": "code",
      "metadata": {
        "id": "1Zg-MC3Ao45a"
      },
      "source": [
        "from glob import glob # 특정 형식 파일 읽기\n",
        "import random\n",
        "from PIL import Image\n",
        "import numpy as np"
      ],
      "execution_count": null,
      "outputs": []
    },
    {
      "cell_type": "code",
      "metadata": {
        "colab": {
          "base_uri": "https://localhost:8080/"
        },
        "id": "izlEaJW_pBQ0",
        "outputId": "2bf4545b-460e-4d6f-bd93-dc092a34be8d"
      },
      "source": [
        "# image list\n",
        "type0_list = glob('/content/drive/My Drive/A4_pro_news/type0/*.jpg')\n",
        "type1_list = glob('/content/drive/My Drive/A4_pro_news/type1/*.jpg')\n",
        "type2_list = glob('/content/drive/My Drive/A4_pro_news/type2/*.jpg')\n",
        "\n",
        "balance = min(len(type0_list),len(type1_list),len(type2_list))\n",
        "\n",
        "# image suffle list\n",
        "type_0 = []\n",
        "type_1 = []\n",
        "type_2 = []\n",
        "\n",
        "# image suffle\n",
        "for i in range(balance):\n",
        "  type_0.append(type0_list[random.randint(0,len(type0_list)-1)])\n",
        "  type_1.append(type1_list[random.randint(0,len(type1_list)-1)])\n",
        "  type_2.append(type2_list[random.randint(0,len(type2_list)-1)])\n",
        "\n"
      ],
      "execution_count": null,
      "outputs": [
        {
          "output_type": "stream",
          "name": "stdout",
          "text": [
            "['/content/drive/My Drive/A4_pro_news/type0/2021_05_05_13:50:49_A4_A4.jpg'] ['/content/drive/My Drive/A4_pro_news/type1/Untitled_20200914_7.jpg'] ['/content/drive/My Drive/A4_pro_news/type2/2021_05_05_13:50:35_A4_A4.jpg']\n"
          ]
        }
      ]
    },
    {
      "cell_type": "code",
      "metadata": {
        "id": "lbcgfEHCq7aV"
      },
      "source": [
        "def img_lab_to_np(img_list,label_velue,m,n,resize=True):\n",
        "  img_array = []\n",
        "  lab_array = []\n",
        "\n",
        "  for Img in img_list:\n",
        "    try:\n",
        "      img = Image.open(Img).convert('RGB') # 이미지를 0~255의 RGB(숫자)값으로 변형해서 불러온다\n",
        "      if (resize):\n",
        "        img = img.resize((m,n))\n",
        "      img_array.append(np.asarray(img)) #얕은 복사\n",
        "      lab_array.append(label)\n",
        "    except:\n",
        "      continue\n",
        "  images = np.array(img_array)\n",
        "  labels = np.array(lab_array)\n",
        "  return images, labels"
      ],
      "execution_count": null,
      "outputs": []
    },
    {
      "cell_type": "code",
      "metadata": {
        "colab": {
          "base_uri": "https://localhost:8080/"
        },
        "id": "i7v8GhgZBdEF",
        "outputId": "52d4ee7b-6eae-416f-a7ec-48ce8a4b80e6"
      },
      "source": [
        "img_type0,lab_type0 = img_lab_to_np(type_0,0,224,224)\n",
        "img_type0 = img_type0.astype(np.float32)/ 255.  \n",
        "# 이미지의 픽셀 값을 0.0~1.0 사이의 값으로 정규화(normalize), 0~255의 정수 값을 실수값으로 변경 후 0~1사이의 값이 되도록 255. 으로 나눠줌 (. 이 붙은건 실수값 선언) \n",
        "# 신경망을 훈련할 때 32비트 정밀도를 사용하는 것이 가장 일반적(ram때문인가?) 그리고 255로 나누는 것은 기본 학습률이 잘 작동하고 손실값이나 모든 출력값의 편차를 줄이기 위해..\n",
        "img_type1,lab_type1 = img_lab_to_np(type_1,1,224,224)\n",
        "img_type1 = img_type1.astype(np.float32)/ 255.\n",
        "\n",
        "img_type2,lab_type2 = img_lab_to_np(type_1,2,224,224)\n",
        "img_type2 = img_type2.astype(np.float32)/ 255.\n",
        "\n",
        "class_name = ['A4', 'Promotion','Newspaper']\n",
        "num_class = len(class_name)"
      ],
      "execution_count": null,
      "outputs": [
        {
          "output_type": "stream",
          "name": "stdout",
          "text": [
            "<PIL.Image.Image image mode=RGB size=640x360 at 0x7FE527908E90>\n",
            "<PIL.Image.Image image mode=RGB size=1239x1754 at 0x7FE527911810>\n",
            "<PIL.Image.Image image mode=RGB size=1239x1754 at 0x7FE527911810>\n"
          ]
        }
      ]
    },
    {
      "cell_type": "code",
      "metadata": {
        "id": "xrBTLvMVONtP"
      },
      "source": [
        ""
      ],
      "execution_count": null,
      "outputs": []
    }
  ]
}